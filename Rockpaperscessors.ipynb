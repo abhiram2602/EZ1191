{
  "nbformat": 4,
  "nbformat_minor": 0,
  "metadata": {
    "colab": {
      "provenance": []
    },
    "kernelspec": {
      "name": "python3",
      "display_name": "Python 3"
    },
    "language_info": {
      "name": "python"
    }
  },
  "cells": [
    {
      "cell_type": "code",
      "execution_count": 3,
      "metadata": {
        "id": "aF0NQ1YHdCqa",
        "colab": {
          "base_uri": "https://localhost:8080/"
        },
        "outputId": "1cbb2bf6-fe07-417f-966e-0020ce7f75e6"
      },
      "outputs": [
        {
          "output_type": "stream",
          "name": "stdout",
          "text": [
            "enter choicerock\n",
            "TIE GAME\n",
            "enter choicepaper\n",
            "system has won \n",
            "enter choices\n",
            "enter choices\n",
            "system has won \n",
            "enter choicerock\n",
            "USER has won \n",
            "enter choicerock\n",
            "TIE GAME\n",
            "enter choicerock\n",
            "TIE GAME\n",
            "enter choicerock\n",
            "USER has won \n",
            "enter choicerock\n",
            "USER has won \n",
            "enter choicerock\n",
            "USER has won \n",
            "enter choicerock\n",
            "user has won the game \n",
            "user has won \n"
          ]
        }
      ],
      "source": [
        "import random\n",
        "arr=['rock','paper','s']\n",
        "scount=0\n",
        "ucount=0\n",
        "while True:\n",
        "    choice=input(\"enter choice: \")\n",
        "    a=random.choice(arr)\n",
        "    if(a==choice):\n",
        "        print(\"TIE GAME\")\n",
        "    elif(choice==arr[0] and a==arr[1]):\n",
        "        print(\"user has won the game \")\n",
        "        ucount=ucount+1\n",
        "    elif(choice==arr[1] and a==arr[0]):\n",
        "        print(\"system has won \")\n",
        "        scount=scount+1\n",
        "    elif(choice==arr[0] and a==arr[2]):\n",
        "        print(\"USER has won \")\n",
        "        ucount=ucount+1\n",
        "    elif(choice==arr[1] and a==arr[0]):\n",
        "        print(\"system has won \")\n",
        "        scount=scount+1\n",
        "    elif(choice==arr[2] and a==arr[1]):\n",
        "        print(\"system has won \")\n",
        "        scount=scount+1\n",
        "    elif(choice==arr[1] and a==arr[2]):\n",
        "        print(\"system has won \")\n",
        "        scount=scount+1\n",
        "    if(scount==5):\n",
        "        print(\"system has won\")\n",
        "        break\n",
        "    elif(ucount==5):\n",
        "        print(\"user has won \")\n",
        "        break"
      ]
    }
  ]
}