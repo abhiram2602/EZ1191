{
  "nbformat": 4,
  "nbformat_minor": 0,
  "metadata": {
    "colab": {
      "provenance": []
    },
    "kernelspec": {
      "name": "python3",
      "display_name": "Python 3"
    },
    "language_info": {
      "name": "python"
    }
  },
  "cells": [
    {
      "cell_type": "code",
      "execution_count": null,
      "metadata": {
        "id": "ejx0VIV1dPaW"
      },
      "outputs": [],
      "source": [
        "#Stack in python\n",
        "class stack:\n",
        "  def push(self):\n",
        "    a=int(input(\"Enter number: \"))\n",
        "    l.append(a)\n",
        "  def pop(self):\n",
        "    q.append(l[-1])\n",
        "    l.remove(l[-1])\n",
        "  def peak(self):\n",
        "    print(l[-1], \"is peak element\")\n",
        "  def size(self):\n",
        "    print(len(l))\n",
        "  def printer(self):\n",
        "    q.reverse()\n",
        "    print(q,\"are the popped elements\")\n",
        "s=stack()\n",
        "l=[]\n",
        "q=[]\n",
        "for i in range(5):\n",
        "  s.push()\n",
        "for i in range(5):\n",
        "  s.pop()\n",
        "s.printer()\n",
        "print(q)"
      ]
    },
    {
      "cell_type": "code",
      "source": [],
      "metadata": {
        "id": "xT2v_HDsdQQe"
      },
      "execution_count": null,
      "outputs": []
    },
    {
      "cell_type": "code",
      "source": [
        "#queue in python\n",
        "class Queue:\n",
        "    def enqueue(self,m):\n",
        "        a=int(input(\"enter the number\"))\n",
        "        if(len(m)==n):\n",
        "            print(\"queue overflow\")\n",
        "            return 0\n",
        "        m.append(a)\n",
        "    def dequeue(self,m):\n",
        "        if(len(m)<1):\n",
        "            print(\"underflow\")\n",
        "            return 0\n",
        "        m.remove(m[0])\n",
        "    def size(slef,m):\n",
        "        print(len(m))\n",
        "q=Queue()\n",
        "m=[]\n",
        "n=5\n",
        "print(\"max size is\",n)\n",
        "for i in range(6):\n",
        "    q.enqueue(m)\n",
        "print(m)\n",
        "for i in range(6):\n",
        "    q.dequeue(m)"
      ],
      "metadata": {
        "id": "AAv6GUt7dQWT"
      },
      "execution_count": null,
      "outputs": []
    },
    {
      "cell_type": "code",
      "source": [],
      "metadata": {
        "id": "smmbYqQszHg5"
      },
      "execution_count": null,
      "outputs": []
    },
    {
      "cell_type": "code",
      "source": [
        "#merging 2 stacks\n",
        "class Stack():\n",
        "    def push(self,st,n):\n",
        "        st.append(n)\n",
        "    def pop(self,st):\n",
        "        w=st[-1]\n",
        "        st.remove(st[-1])\n",
        "        return w\n",
        "s=Stack()\n",
        "l=[]\n",
        "m=[]\n",
        "t=[]\n",
        "f=[]\n",
        "print(\"enter the elements in stack 1\")\n",
        "for i in range(5):\n",
        "    a=int(input())\n",
        "    l.append(a)\n",
        "print(\"enter the elements in stack 2\")\n",
        "for i in range(5):\n",
        "    a=int(input())\n",
        "    m.append(a)\n",
        "for i in range(len(l)):\n",
        "    s.push(t,s.pop(l))\n",
        "for i in range(len(t)):\n",
        "    s.push(f,s.pop(t))\n",
        "for i in range(len(m)):\n",
        "    s.push(t,s.pop(m))\n",
        "for i in range(len(t)):\n",
        "    s.push(f,s.pop(t))\n",
        "print(f,\"is the final stack\")"
      ],
      "metadata": {
        "id": "z08SHdYGzHs1"
      },
      "execution_count": null,
      "outputs": []
    },
    {
      "cell_type": "code",
      "source": [],
      "metadata": {
        "id": "miHvQ2yYzMDQ"
      },
      "execution_count": null,
      "outputs": []
    },
    {
      "cell_type": "code",
      "source": [
        "#balancing the stacks\n",
        "stack=[]\n",
        "str1=\"()()()\"\n",
        "for i in str1:\n",
        "    if i==\"(\":\n",
        "        stack.append(i)\n",
        "    else:\n",
        "        if len(stack)==0:\n",
        "            print(\"Unbalanced\")\n",
        "            break\n",
        "        else:\n",
        "            stack.pop()\n",
        "print(stack)\n",
        "if len(stack)==0:\n",
        "    print(\"Balanced\")"
      ],
      "metadata": {
        "id": "1ISlQVBxzMJ2"
      },
      "execution_count": null,
      "outputs": []
    }
  ]
}